{
 "cells": [
  {
   "cell_type": "markdown",
   "metadata": {},
   "source": [
    "## Задание 1"
   ]
  },
  {
   "cell_type": "markdown",
   "metadata": {},
   "source": [
    "Дан список вида:"
   ]
  },
  {
   "cell_type": "code",
   "execution_count": 1,
   "metadata": {},
   "outputs": [],
   "source": [
    "data = [\n",
    "    [13, 25, 23, 34],\n",
    "    [45, 32, 44, 47],\n",
    "    [12, 33, 23, 95],\n",
    "    [13, 53, 34, 35]\n",
    "]"
   ]
  },
  {
   "cell_type": "code",
   "execution_count": 2,
   "metadata": {},
   "outputs": [
    {
     "name": "stdout",
     "output_type": "stream",
     "text": [
      "103\n"
     ]
    }
   ],
   "source": [
    "def diagonal(data):\n",
    "    sum_d = []\n",
    "    ind = 0\n",
    "    for lst in data:\n",
    "        sum_d.append(lst[ind])\n",
    "        ind += 1\n",
    "    return sum(sum_d)\n",
    "        \n",
    "\n",
    "print (diagonal(data))"
   ]
  },
  {
   "cell_type": "markdown",
   "metadata": {},
   "source": [
    "Напишите функцию, которая возвращает сумму элементов на диагонали. Т. е. 13+32+23+35.  \n",
    "Список может быть любой длины, но всегда является \"квадратным\" (количество элементов во вложенных списках равно их количеству)."
   ]
  },
  {
   "cell_type": "markdown",
   "metadata": {},
   "source": [
    "## Задание 2"
   ]
  },
  {
   "cell_type": "markdown",
   "metadata": {},
   "source": [
    "Напишите функцию, возвращающую сумму первых n чисел Фибоначчи (для этого вам может понадобится ознакомиться с рекурсией)."
   ]
  },
  {
   "cell_type": "code",
   "execution_count": 1,
   "metadata": {},
   "outputs": [
    {
     "name": "stdout",
     "output_type": "stream",
     "text": [
      "Введи количество знаков: 10\n",
      "Последовательность Фибоначчи:  88\n"
     ]
    }
   ],
   "source": [
    "def fib_seq(num):\n",
    "    f1 = 0\n",
    "    f2 = 1\n",
    "    i = 2\n",
    "    fib_list=[0,1]\n",
    "    while i < num :\n",
    "        fib_sum = f1 + f2\n",
    "        f1 = f2\n",
    "        f2 = fib_sum\n",
    "        i =  i + 1\n",
    "        fib_list.append(fib_sum)\n",
    "    return fib_list\n",
    "    \n",
    "print('Последовательность Фибоначчи: ', sum (fib_seq(int(input('Введи количество знаков: ')))))\n",
    "\n"
   ]
  },
  {
   "cell_type": "markdown",
   "metadata": {},
   "source": [
    "## Задание 3\n"
   ]
  },
  {
   "cell_type": "markdown",
   "metadata": {},
   "source": [
    "Напишите функцию, преобразующую произвольный список вида ['2018-01-01', 'yandex', 'cpc', 100] (он может быть любой длины) в словарь {'2018-01-01': {'yandex': {'cpc': 100}}}"
   ]
  },
  {
   "cell_type": "code",
   "execution_count": 16,
   "metadata": {},
   "outputs": [
    {
     "name": "stdout",
     "output_type": "stream",
     "text": [
      "{'2018-01-01': {'yandex': {'cpc': 100}}}\n"
     ]
    }
   ],
   "source": [
    "r_list = ['2018-01-01', 'yandex', 'cpc', 100]\n",
    "def list_to_dict(r_list):\n",
    "    x = 0\n",
    "    while x <= len(r_list) + 1:\n",
    "        newdict = dict(zip(r_list[-2:], r_list[-1:]))\n",
    "        del(r_list[-2])\n",
    "        del(r_list[-1:])\n",
    "        r_list.append(newdict)\n",
    "        x += 1  \n",
    "    return r_list[0]\n",
    "         \n",
    "print(list_to_dict(r_list))"
   ]
  },
  {
   "cell_type": "markdown",
   "metadata": {},
   "source": [
    "## Задание 4"
   ]
  },
  {
   "cell_type": "markdown",
   "metadata": {},
   "source": [
    "Вы работаете секретарем и вам постоянно приходят различные документы. Вы должны быть очень внимательны, чтобы не потерять ни один документ. Каталог документов хранится в следующем виде:"
   ]
  },
  {
   "cell_type": "code",
   "execution_count": 18,
   "metadata": {},
   "outputs": [],
   "source": [
    "documents = [\n",
    "    {'type': 'passport', 'number': '2207 876234', 'name': 'Василий Гупкин'},\n",
    "    {'type': 'invoice', 'number': '11-2', 'name': 'Геннадий Покемонов'},\n",
    "    {'type': 'insurance', 'number': '10006', 'name': 'Аристарх Павлов'}\n",
    "]"
   ]
  },
  {
   "cell_type": "markdown",
   "metadata": {},
   "source": [
    "Перечень полок, на которых находятся документы хранится в следующем виде:"
   ]
  },
  {
   "cell_type": "code",
   "execution_count": 19,
   "metadata": {},
   "outputs": [],
   "source": [
    "directories = {\n",
    "    '1': ['2207 876234', '11-2', '5455 028765'],\n",
    "    '2': ['10006', '5400 028765', '5455 002299'],\n",
    "    '3': []\n",
    "}"
   ]
  },
  {
   "cell_type": "markdown",
   "metadata": {},
   "source": [
    "Необходимо реализовать пользовательские команды (внимание! это не название функций, которые должны быть выразительными, а команды, которые вводит пользователь, чтобы получить необходимый результат):\n",
    "  \n",
    "- p – people – команда, которая спросит номер документа и выведет имя человека, которому он принадлежит;  \n",
    "- s – shelf – команда, которая спросит номер документа и выведет номер полки, на которой он находится  \n",
    "Правильно обработайте ситуацию, когда пользователь будет вводить несуществующий документ.\n",
    "- l – list – команда, которая выведет список всех документов в формате   \n",
    "**passport \"2207 876234\" \"Василий Гупкин\"**  \n",
    "- as – add shelf – команда, которая спросит номер новой полки и добавит ее в перечень\n",
    "- d – delete – команда, которая спросит номер документа и удалит его из каталога и из перечня полок. Предусмотрите сценарий, когда пользователь вводит несуществующий документ;  \n",
    "- m – move – команда, которая спросит номер документа и целевую полку и переместит его с текущей полки на целевую. Корректно обработайте кейсы, когда пользователь пытается переместить несуществующий документ или переместить документ на несуществующую полку;  \n",
    "- a – add – команда, которая добавит новый документ в каталог и в перечень полок, спросив его номер, тип, имя владельца и номер полки, на котором он будет храниться."
   ]
  },
  {
   "cell_type": "code",
   "execution_count": 21,
   "metadata": {},
   "outputs": [
    {
     "name": "stdout",
     "output_type": "stream",
     "text": [
      "Введите команду: p/s/l/as/d/m/a, для выхода из программы, нажмите любую другую клавишу s\n",
      "Введите номер документа: 10006\n",
      "Документа на полке № 2\n"
     ]
    }
   ],
   "source": [
    "comand = input('Введите команду: p/s/l/as/d/m/a, для выхода из программы, нажмите любую другую клавишу ')\n",
    "if comand == 'p':\n",
    "    doc_number = input('Введите номер документа: ')\n",
    "    \n",
    "    def people(documents, directories):\n",
    "        \"\"\"\n",
    "        Функция, которая спросит номер документа и выведет имя человека, которому он принадлежит.\n",
    "        \"\"\"\n",
    "        for vac in documents:\n",
    "            for key, value in vac.items():\n",
    "                if vac['number'] == doc_number:\n",
    "                    return vac['name']\n",
    "        return 'Такого документа нет'        \n",
    "                    \n",
    "    print(people(documents, directories))\n",
    "\n",
    "elif comand == 's':\n",
    "    doc_number = input('Введите номер документа: ')\n",
    "    \n",
    "    def shelf(documents, directories):\n",
    "        \"\"\"\n",
    "        Функция, которая спросит номер документа и выведет номер полки, на которой он находится\n",
    "        \"\"\"\n",
    "        for key, value in directories.items():\n",
    "            for i in value:\n",
    "                if i == doc_number:\n",
    "                    return 'Документа на полке № {}'.format(key)\n",
    "        return 'Такого документа нет' \n",
    "\n",
    "                \n",
    "    print(shelf(documents, directories))\n",
    "\n",
    "elif comand == 'l':\n",
    "    for vac in documents:\n",
    "        def list(documents):\n",
    "            \"\"\"\n",
    "            Функция, которая выведет список всех документов в формате ''' passport \"2207 876234\" \"Василий Гупкин\" '''.\n",
    "            \"\"\"\n",
    "            return f\"{vac['type']} '{vac['number']}' '{vac['name']}'\"                                  \n",
    "        print(list(documents)) \n",
    "\n",
    "elif comand == 'as':\n",
    "    shelf_number = input('Введите номер полки для добавления: ')\n",
    "    a = []\n",
    "    def addshelf(directories):\n",
    "        \"\"\"\n",
    "        Функция добавляет новую полку в словарь и присваивает значение пустого списка\n",
    "        \"\"\"\n",
    "        directories.setdefault(shelf_number, a)\n",
    "        return directories\n",
    "    print(addshelf(directories))\n",
    "    \n",
    "elif comand == 'd':\n",
    "    def del_(documents, directories):\n",
    "        doc_num = input(\"Для удаления данных пользователя введите номер документа: \")\n",
    "        del_flag = False\n",
    "        for el in documents:\n",
    "            if el['number'] == doc_num:\n",
    "                doc_num = el['number']\n",
    "                documents.remove(el)\n",
    "                del_flag = True\n",
    "        if del_flag == False: \n",
    "            return 'Номера такого документа не существует'\n",
    "        for key, value in directories.items():\n",
    "            if value.count(doc_num) != 0:\n",
    "                directories[key].remove(doc_num)\n",
    "                return documents, directories\n",
    "\n",
    "    print(del_(documents, directories))\n",
    "\n",
    "elif comand == 'a':\n",
    "    \n",
    "    def add_doc(documents, directories):\n",
    "        doc_number = input('Введите номер документа: ')\n",
    "        doc_type = input('Введите тип документа: ')\n",
    "        doc_name = input('Введите имя владельца: ')\n",
    "        print('Кол-во полок на данный момент - {}'.format(len(directories)))\n",
    "        shelf_number = input('На какую полку положить документ? ')\n",
    "        dict_ = {}\n",
    "        documents.append(dict_)\n",
    "        dict_['type'] = doc_type\n",
    "        dict_['number'] = doc_number\n",
    "        dict_['name'] = doc_name\n",
    "        for key, value in directories.items():\n",
    "            if key == shelf_number:\n",
    "                value.append(doc_number)\n",
    "                return documents, directories\n",
    "            elif int(shelf_number) > len(directories):\n",
    "                return 'Такой полки не существует'\n",
    "    print(add_doc(documents, directories))\n",
    "    \n",
    "elif comand == 'm':\n",
    "    \n",
    "    def move():\n",
    "        doc_num = input(\"Для перемещения документа введите номер документа: \")\n",
    "        if sum([value.count(doc_num) for value in directories.values()]) == 0:\n",
    "            print(\"Номера такого документа не существует\")\n",
    "            return\n",
    "        shelf_num_dest = input(\"Введите номер полки, куда нужно переместить документ: \")\n",
    "        if list(directories.keys()).count(shelf_num_dest) != 0:\n",
    "            for key, value in directories.items():\n",
    "                if value.count(doc_num) != 0:\n",
    "                    directories[key].remove(doc_num)\n",
    "                    directories[shelf_num_dest].append(doc_num)\n",
    "                    return documents, directories\n",
    "        else: \n",
    "            return \"Полка с номером \" + shelf_num_dest + \" не существует\"\n",
    "    print(move())\n",
    "\n",
    "else:\n",
    "    print('Работа программы законченна')"
   ]
  },
  {
   "cell_type": "code",
   "execution_count": null,
   "metadata": {},
   "outputs": [],
   "source": []
  }
 ],
 "metadata": {
  "kernelspec": {
   "display_name": "Python 3",
   "language": "python",
   "name": "python3"
  },
  "language_info": {
   "codemirror_mode": {
    "name": "ipython",
    "version": 3
   },
   "file_extension": ".py",
   "mimetype": "text/x-python",
   "name": "python",
   "nbconvert_exporter": "python",
   "pygments_lexer": "ipython3",
   "version": "3.7.4"
  }
 },
 "nbformat": 4,
 "nbformat_minor": 2
}
